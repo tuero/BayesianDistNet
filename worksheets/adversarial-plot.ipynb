{
 "cells": [
  {
   "cell_type": "code",
   "execution_count": null,
   "metadata": {},
   "outputs": [],
   "source": [
    "import torch\n",
    "import numpy as np\n",
    "import pandas as pd\n",
    "from scipy import stats\n",
    "from sklearn.model_selection import KFold\n",
    "from scipy.signal import savgol_filter\n",
    "\n",
    "import itertools\n",
    "import sys\n",
    "import os\n",
    "sys.path.append(os.path.abspath('../src'))\n",
    "\n",
    "from helper import load_data, data_source_release\n",
    "from helper import preprocess\n",
    "\n",
    "import matplotlib.pyplot as plt\n",
    "import seaborn as sns\n",
    "%matplotlib inline\n",
    "import matplotlib.style as style\n",
    "style.use('seaborn-poster') #sets the size of the charts\n",
    "style.use('ggplot')\n",
    "\n",
    "plt.rcParams[\"axes.edgecolor\"] = \"black\"\n",
    "plt.rcParams[\"axes.linewidth\"] = 1\n",
    "plt.rcParams[\"axes.labelweight\"] = \"bold\"\n",
    "plt.rcParams['axes.grid'] = True\n",
    "plt.rcParams['grid.alpha'] = 1\n",
    "plt.rcParams['grid.color'] = \"#cccccc\""
   ]
  },
  {
   "cell_type": "code",
   "execution_count": null,
   "metadata": {},
   "outputs": [],
   "source": [
    "def loadModel(model_type, model_name):\n",
    "    return torch.load('../export/{}/{}.pt'.format(model_type, model_name))\n",
    "\n",
    "def getScenarioData(scenario):\n",
    "    sc_dict = data_source_release.get_sc_dict()\n",
    "    data_dir = data_source_release.get_data_dir()\n",
    "    runtimes, features, _ = load_data.get_data(scenario=scenario, data_dir=data_dir, sc_dict=sc_dict, retrieve=sc_dict[scenario]['use'])\n",
    "    return np.array(runtimes), np.array(features)"
   ]
  },
  {
   "cell_type": "code",
   "execution_count": null,
   "metadata": {},
   "outputs": [],
   "source": []
  },
  {
   "cell_type": "code",
   "execution_count": null,
   "metadata": {},
   "outputs": [],
   "source": [
    "# Load data and preprocess\n",
    "scenario = 'clasp_factoring'\n",
    "runtimes, features = getScenarioData(scenario)\n",
    "fold = 9\n",
    "idx = list(range(runtimes.shape[0]))\n",
    "\n",
    "kf = KFold(n_splits=10, shuffle=True, random_state=0)\n",
    "train_idx, validate_idx = list(kf.split(idx))[fold]\n",
    "X_trn_flat, X_vld_flat, _, _, _, _ = preprocess.preprocess(features, runtimes, train_idx, validate_idx, 100, 0, 0)"
   ]
  },
  {
   "cell_type": "code",
   "execution_count": null,
   "metadata": {},
   "outputs": [],
   "source": []
  },
  {
   "cell_type": "code",
   "execution_count": null,
   "metadata": {},
   "outputs": [],
   "source": [
    "device = torch.device(\"cpu\")\n",
    "features = torch.tensor(X_trn_flat, dtype=torch.float).to(device)\n",
    "data_row = 0\n",
    "X = np.linspace(-8, 8, 600)"
   ]
  },
  {
   "cell_type": "code",
   "execution_count": null,
   "metadata": {},
   "outputs": [],
   "source": [
    "# Load Bayes DistNet, sample distribution\n",
    "model_bayes = loadModel('bayes_distnet', 'bayes_distnet_clasp_factoring_BAYESIAN_LOGNORMAL_16_0_6_0')\n",
    "model_bayes.to(device)\n",
    "model_bayes.eval()\n",
    "\n",
    "mean_bayes = []\n",
    "std_bayes = []\n",
    "\n",
    "# Iterate through values of feature X-20\n",
    "for x in X:\n",
    "    F = features[data_row].repeat(16,1).to(device) + x\n",
    "    # Batch (32) * 16 = 512 samples\n",
    "    temp = []\n",
    "    for _ in range(32):\n",
    "        net_out, _ = model_bayes(F)\n",
    "        temp += net_out.flatten().tolist()\n",
    "        \n",
    "    mean_bayes.append(np.mean(temp))\n",
    "    std_bayes.append(np.std(temp) * 0.6745)"
   ]
  },
  {
   "cell_type": "code",
   "execution_count": null,
   "metadata": {},
   "outputs": [],
   "source": [
    "# Load DistNet, get parameters of distribution\n",
    "model_distnet = loadModel('distnet', 'distnet_{}_LOGNORMAL_16_0_6_0'.format(scenario))\n",
    "model_distnet.to(device)\n",
    "model_distnet.eval()\n",
    "\n",
    "means_distnet = []\n",
    "stds_distnet = []\n",
    "\n",
    "# Iterate through values of feature X-20\n",
    "for x in X:\n",
    "    F = features[data_row].repeat(1,1).to(device) + x\n",
    "    net_out = model_distnet(F)[0].tolist()\n",
    "    dist = stats.lognorm(s=net_out[0], loc=0, scale=net_out[1])\n",
    "    means_distnet.append(dist.mean())\n",
    "    stds_distnet.append(dist.std() * 0.6745)"
   ]
  },
  {
   "cell_type": "code",
   "execution_count": null,
   "metadata": {},
   "outputs": [],
   "source": [
    "Y_bayes = savgol_filter(mean_bayes, 11, 3)\n",
    "LB_bayes = savgol_filter([y - ci for y, ci in zip(mean_bayes, std_bayes)], 11, 3)\n",
    "UB_bayes = savgol_filter([y + ci for y, ci in zip(mean_bayes, std_bayes)], 11, 3)\n",
    "\n",
    "Y_distnet = savgol_filter(means_distnet, 11, 3)\n",
    "LB_distnet = savgol_filter([y - ci for y, ci in zip(means_distnet, stds_distnet)], 11, 3)\n",
    "UB_distnet = savgol_filter([y + ci for y, ci in zip(means_distnet, stds_distnet)], 11, 3)\n",
    "\n",
    "fig, ax = plt.subplots()\n",
    "\n",
    "# Bayes\n",
    "ax.plot(X, Y_bayes, color='#348ABD', label=\"Bayes DistNet\")\n",
    "ax.fill_between(X, LB_bayes, UB_bayes, color='#348ABD', alpha=.15)\n",
    "# Distnet\n",
    "ax.plot(X, Y_distnet, color='#E24A33', label=\"DistNet\")\n",
    "ax.fill_between(X, LB_distnet, UB_distnet, color='#E24A33', alpha=.15)\n",
    "\n",
    "# Chart attributes\n",
    "handles, labels = ax.get_legend_handles_labels()\n",
    "\n",
    "# Tick/labels\n",
    "ax.tick_params(axis='both', labelsize=22)\n",
    "ax.set_ylabel('Distribution')  \n",
    "ax.set_xlabel('Input Offset')  \n",
    "ax.xaxis.label.set_size(24)\n",
    "ax.yaxis.label.set_size(24)\n",
    "\n",
    "lgd = ax.legend(handles, labels, loc='upper left', prop={'size': 20})\n",
    "lgd.get_frame().set_edgecolor('black')\n",
    "plt.autoscale(enable=True, axis='x', tight=True)\n",
    "\n",
    "# plt.savefig('../export/images/predictive_uncertainty.svg', format='svg', dpi=1200, bbox_inches='tight')"
   ]
  },
  {
   "cell_type": "code",
   "execution_count": null,
   "metadata": {},
   "outputs": [],
   "source": []
  }
 ],
 "metadata": {
  "kernelspec": {
   "display_name": "deep-learning",
   "language": "python",
   "name": "deep-learning"
  },
  "language_info": {
   "codemirror_mode": {
    "name": "ipython",
    "version": 3
   },
   "file_extension": ".py",
   "mimetype": "text/x-python",
   "name": "python",
   "nbconvert_exporter": "python",
   "pygments_lexer": "ipython3",
   "version": "3.7.7"
  }
 },
 "nbformat": 4,
 "nbformat_minor": 4
}
